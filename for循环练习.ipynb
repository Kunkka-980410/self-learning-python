{
 "cells": [
  {
   "cell_type": "code",
   "id": "initial_id",
   "metadata": {
    "collapsed": true,
    "ExecuteTime": {
     "end_time": "2025-10-08T05:26:35.750856Z",
     "start_time": "2025-10-08T05:26:35.740609Z"
    }
   },
   "source": [
    "import numpy as np\n",
    "import pandas as pd"
   ],
   "outputs": [],
   "execution_count": 1
  },
  {
   "metadata": {
    "ExecuteTime": {
     "end_time": "2025-10-08T05:26:58.634836Z",
     "start_time": "2025-10-08T05:26:58.624325Z"
    }
   },
   "cell_type": "code",
   "source": [
    "expression_data = {\n",
    "    \"ENSG00000141510\": [50, 60, 55],\n",
    "    \"ENSG00000012048\": [5, 3, 4],\n",
    "    \"ENSG00000139618\": [100, 120, 110],\n",
    "    \"ENSG00000210082\": [0, 1, 0]\n",
    "}\n"
   ],
   "id": "65e3b2105cbb0958",
   "outputs": [],
   "execution_count": 2
  },
  {
   "metadata": {},
   "cell_type": "code",
   "outputs": [],
   "execution_count": null,
   "source": [
    "#🎯 任务：请用一个 for 循环，筛选出在所有样本中表达值都大于 10 的基因，并将它们存入一个新的列表 highly_expressed_genes。\n",
    "# 1.建一个highly_expressed_genes =[]的空列表；\n",
    "# 2.先遍历这个expression_data字典，用for k,v in expression_data.items来遍历；\n",
    "# 3.if 每个键里的值超过10，append进新列表（问题：如何筛选每个键里的值）；\n",
    "# 4.是否能把这个dictionary转换成DF，然后再用min_express =10,express_simpla =3来进行筛选会更方便\n"
   ],
   "id": "9a938ec67ac807fe"
  },
  {
   "metadata": {
    "ExecuteTime": {
     "end_time": "2025-10-08T07:05:48.004834Z",
     "start_time": "2025-10-08T07:05:47.955397Z"
    }
   },
   "cell_type": "code",
   "source": [
    "highly_expressed_genes = []\n",
    "for k, v in expression_data.items():\n",
    "    if all(x > 10 for x in v):\n",
    "        highly_expressed_genes.append(k)\n",
    "print(highly_expressed_genes)\n",
    "\n",
    "\n",
    "# 转换为 DataFrame\n",
    "df = pd.DataFrame(expression_data)\n",
    "\n",
    "# 转置，使行是基因，列是样本\n",
    "df = df.T\n",
    "\n",
    "# 设置表达阈值\n",
    "min_express = 10\n",
    "express_simpla = 3  # 样本数\n",
    "\n",
    "# 过滤：每个基因在所有样本中表达值都大于 min_express\n",
    "filtered = df[(df > min_express).all(axis=1)]\n",
    "\n",
    "# 获取基因列表\n",
    "highly_expressed_genes = filtered.index.tolist()\n"
   ],
   "id": "e34c74ad9dfefcb",
   "outputs": [
    {
     "name": "stdout",
     "output_type": "stream",
     "text": [
      "['ENSG00000141510', 'ENSG00000139618']\n"
     ]
    }
   ],
   "execution_count": 5
  },
  {
   "metadata": {},
   "cell_type": "code",
   "outputs": [],
   "execution_count": null,
   "source": [
    "'''🎯 任务：\n",
    "请用一个 for 循环，计算每个基因在所有样本中的平均表达值，并将结果存入一个新的字典 average_expression''''\n",
    "\n",
    "\n",
    "expression_data = {\n",
    "    \"ENSG00000141510\": [50, 60, 55],\n",
    "    \"ENSG00000012048\": [5, 3, 4],\n",
    "    \"ENSG00000139618\": [100, 120, 110],\n",
    "    \"ENSG00000210082\": [0, 1, 0]\n",
    "}\n",
    "\n",
    "\n",
    "'''\n",
    "1.先建一个空列表存储平均值，\n",
    "2.for k,v in expression_data.items():来遍历字典的每个键值对\n",
    "3.for i in expression_data.values():\n",
    "4.ave = mean.values()\n",
    "5. average_expression.append(ave)\n",
    "'''\n",
    "\n"
   ],
   "id": "aa0cb38f190a1771"
  },
  {
   "metadata": {
    "ExecuteTime": {
     "end_time": "2025-10-08T07:38:53.076471Z",
     "start_time": "2025-10-08T07:38:53.055269Z"
    }
   },
   "cell_type": "code",
   "source": [
    "'''\n",
    "你要构建一个新的字典 average_expression，其中每个基因的键对应它在所有样本中的平均表达值。\n",
    "🔍 你的伪代码分析\n",
    "1️⃣ 建一个空列表存储平均值\n",
    "🔸 这里你其实需要的是一个字典，而不是列表，因为你要保留基因 ID 和对应的平均值\n",
    "✅ 建议改为：average_expression = {}\n",
    "\n",
    "\n",
    "2️⃣ 遍历字典的每个键值对\n",
    "你写的是：for k,v in expression_data.items():来遍历字典的每个键值对\n",
    "✅ 完全正确！k 是基因 ID，v 是表达值列表。\n",
    "\n",
    "3️⃣ for i in expression_data.values()\n",
    "🔸 这一步其实是多余的，因为你已经在上一步拿到了 v，它就是表达值列表。\n",
    "✅ 可以删掉这一步。\n",
    "\n",
    "4\n",
    "️⃣ ave = mean.values()\n",
    "🔸 这里你想计算平均值，但语法不对。\n",
    "✅ 正确写法是：ave = sum(v) / len(v)\n",
    "或者用 statistics.mean(v)（需要导入 statistics 模块）\n",
    "\n",
    "5️⃣ average_expression.append(ave)\n",
    "🔸 如果你用的是字典，就不能用 .append()，而是要用键值赋值。\n",
    "✅ 正确写法是：average_expression[k] = ave\n",
    "\n",
    "🧠 总结修正后的伪代码逻辑：\n",
    "'''\n",
    "\n",
    "average_expression = {}\n",
    "\n",
    "for k, v in expression_data.items():\n",
    "    ave = sum(v) / len(v)\n",
    "    average_expression[k] = ave\n",
    "\n",
    "\n",
    "\n",
    "'''\n",
    "ave = sum(v) / len(v) 怎么保证这里的v是每一个键的值而不是全部值\n",
    "\n",
    "🧠 为什么 v 是每一个键的值，而不是全部值？\n",
    "这是因为你在使用这段代码：\n",
    "\n",
    "python\n",
    "for k, v in expression_data.items():\n",
    "    ave = sum(v) / len(v)\n",
    "这里的 .items() 是 Python 字典的标准方法，它会逐个返回键值对，也就是说：\n",
    "\n",
    "k 是当前的键（比如 \"ENSG00000141510\"）\n",
    "\n",
    "v 是当前键对应的值（比如 [50, 60, 55]）\n",
    "\n",
    "每次循环只处理一个键值对，所以 v 就是“当前这个基因的表达值列表”，而不是整个字典的所有值。\n",
    "\n",
    "🔍 举个例子：\n",
    "python\n",
    "expression_data = {\n",
    "    \"ENSG000001\": [10, 20, 30],\n",
    "    \"ENSG000002\": [5, 5, 5]\n",
    "}\n",
    "\n",
    "for k, v in expression_data.items():\n",
    "    print(f\"{k} → {v}\")\n",
    "输出：\n",
    "\n",
    "代码\n",
    "ENSG000001 → [10, 20, 30]\n",
    "ENSG000002 → [5, 5, 5]\n",
    "你可以看到，每次循环 v 都是一个单独的列表，只属于当前的 k\n",
    "'''"
   ],
   "id": "8296260fe862457",
   "outputs": [
    {
     "data": {
      "text/plain": [
       "'\\nave = sum(v) / len(v) 怎么保证这里的v是每一个键的值而不是全部值\\n\\n🧠 为什么 v 是每一个键的值，而不是全部值？\\n这是因为你在使用这段代码：\\n\\npython\\nfor k, v in expression_data.items():\\n    ave = sum(v) / len(v)\\n这里的 .items() 是 Python 字典的标准方法，它会逐个返回键值对，也就是说：\\n\\nk 是当前的键（比如 \"ENSG00000141510\"）\\n\\nv 是当前键对应的值（比如 [50, 60, 55]）\\n\\n每次循环只处理一个键值对，所以 v 就是“当前这个基因的表达值列表”，而不是整个字典的所有值。\\n\\n🔍 举个例子：\\npython\\nexpression_data = {\\n    \"ENSG000001\": [10, 20, 30],\\n    \"ENSG000002\": [5, 5, 5]\\n}\\n\\nfor k, v in expression_data.items():\\n    print(f\"{k} → {v}\")\\n输出：\\n\\n代码\\nENSG000001 → [10, 20, 30]\\nENSG000002 → [5, 5, 5]\\n你可以看到，每次循环 v 都是一个单独的列表，只属于当前的 k\\n'"
      ]
     },
     "execution_count": 9,
     "metadata": {},
     "output_type": "execute_result"
    }
   ],
   "execution_count": 9
  },
  {
   "metadata": {
    "ExecuteTime": {
     "end_time": "2025-10-08T07:55:44.281696Z",
     "start_time": "2025-10-08T07:55:44.263566Z"
    }
   },
   "cell_type": "code",
   "source": [
    "df = pd.DataFrame(expression_data)\n",
    "df = df.T\n",
    "#df.set_index (df.columns[0],inplace=True)\n",
    "df['average_expression'] = df.mean(axis=1)\n",
    "\n",
    "df['average_expression']"
   ],
   "id": "35336255ccffeff7",
   "outputs": [
    {
     "data": {
      "text/plain": [
       "ENSG00000141510     55.000000\n",
       "ENSG00000012048      4.000000\n",
       "ENSG00000139618    110.000000\n",
       "ENSG00000210082      0.333333\n",
       "Name: average_expression, dtype: float64"
      ]
     },
     "execution_count": 38,
     "metadata": {},
     "output_type": "execute_result"
    }
   ],
   "execution_count": 38
  },
  {
   "metadata": {
    "ExecuteTime": {
     "end_time": "2025-10-08T07:58:49.257789Z",
     "start_time": "2025-10-08T07:58:49.230871Z"
    }
   },
   "cell_type": "code",
   "source": [
    "average_expression = {}\n",
    "for k, v in expression_data.items():\n",
    "    ave = sum(v) / len(v)\n",
    "    average_expression[k] = ave\n"
   ],
   "id": "942b6e1618a701d6",
   "outputs": [
    {
     "data": {
      "text/plain": [
       "{'ENSG00000141510': 55.0,\n",
       " 'ENSG00000012048': 4.0,\n",
       " 'ENSG00000139618': 110.0,\n",
       " 'ENSG00000210082': 0.3333333333333333}"
      ]
     },
     "execution_count": 40,
     "metadata": {},
     "output_type": "execute_result"
    }
   ],
   "execution_count": 40
  },
  {
   "metadata": {},
   "cell_type": "code",
   "outputs": [],
   "execution_count": null,
   "source": [
    "#🧬 练习题：筛选显著差异表达基因\n",
    "#你有一个差异表达结果字典，格式如下：\n",
    "\n",
    "diff_expr_results = {\n",
    "    \"ENSG00000141510\": {\"logFC\": 2.5, \"pval\": 0.001},\n",
    "    \"ENSG00000012048\": {\"logFC\": -1.2, \"pval\": 0.05},\n",
    "    \"ENSG00000139618\": {\"logFC\": 0.8, \"pval\": 0.2},\n",
    "    \"ENSG00000210082\": {\"logFC\": -3.1, \"pval\": 0.0005}\n",
    "}\n",
    "#🎯 任务：\n",
    "#请用一个 for 循环，筛选出同时满足以下两个条件的基因，并将它们存入一个新列表 significant_genes：\n",
    "\n",
    "# abs(logFC) > 1\n",
    "\n",
    "# pval < 0.05\n",
    "\n",
    "'''\n",
    "for k, v in diff_expr_results.items():\n",
    "    if abs(logFC) > 1 & pval <0.05\n",
    "    significant_genes.append(k)\n",
    "\n",
    "\n",
    "🔍 你的代码问题分析\n",
    "你写的是：\n",
    "\n",
    "python\n",
    "for k, v in diff_expr_results.items():\n",
    "    if abs(logFC) > 1 & pval <0.05\n",
    "    significant_genes.append(k)\n",
    "❌ 问题 1：logFC 和 pval 未定义\n",
    "你需要从 v 中提取它们：\n",
    "\n",
    "python\n",
    "logFC = v[\"logFC\"]\n",
    "pval = v[\"pval\"]\n",
    "\n",
    "你要从 v 中提取 logFC 和 pval，而不是从 k 中提取。\n",
    "\n",
    "python\n",
    "logFC = v[\"logFC\"]\n",
    "pval = v[\"pval\"]\n",
    "是完全正确的 ✅\n",
    "\n",
    "🧠 举个例子：\n",
    "python\n",
    "for k, v in diff_expr_results.items():\n",
    "    print(\"基因ID:\", k)\n",
    "    print(\"logFC:\", v[\"logFC\"])\n",
    "    print(\"pval:\", v[\"pval\"])\n",
    "输出：\n",
    "\n",
    "代码\n",
    "基因ID: ENSG00000141510\n",
    "logFC: 2.5\n",
    "pval: 0.001\n",
    "\n",
    "\n",
    "❌ 问题 2：逻辑运算符错误\n",
    "你用了 &，这是位运算符。应该用逻辑运算符 and：\n",
    "\n",
    "python\n",
    "if abs(logFC) > 1 and pval < 0.05:\n",
    "❌ 问题 3：语法缺少冒号\n",
    "if 语句后面必须加冒号 :。\n",
    "\n",
    "✅ 修正后的完整代码：\n",
    "python\n",
    "significant_genes = []\n",
    "\n",
    "for k, v in diff_expr_results.items():\n",
    "    logFC = v[\"logFC\"]\n",
    "    pval = v[\"pval\"]\n",
    "    if abs(logFC) > 1 and pval < 0.05:\n",
    "        significant_genes.append(k)\n",
    "'''"
   ],
   "id": "a469fd6b42f9d61e"
  },
  {
   "metadata": {
    "ExecuteTime": {
     "end_time": "2025-10-08T08:48:04.998070Z",
     "start_time": "2025-10-08T08:48:04.962220Z"
    }
   },
   "cell_type": "code",
   "source": [
    "diff_expr_results = {\n",
    "    \"ENSG00000141510\": {\"logFC\": 2.5, \"pval\": 0.001},\n",
    "    \"ENSG00000012048\": {\"logFC\": -1.2, \"pval\": 0.05},\n",
    "    \"ENSG00000139618\": {\"logFC\": 0.8, \"pval\": 0.2},\n",
    "    \"ENSG00000210082\": {\"logFC\": -3.1, \"pval\": 0.0005}\n",
    "}\n",
    "df = pd.DataFrame(diff_expr_results)\n",
    "df = df.T\n",
    "# 添加一列：logFC 的绝对值\n",
    "df[\"abs_logFC\"] = df[\"logFC\"].abs()\n",
    "\n",
    "# 筛选条件：abs(logFC) > 1 且 pval < 0.05\n",
    "filtered_df = df[(df[\"abs_logFC\"] > 1) & (df[\"pval\"] < 0.05)]\n"
   ],
   "id": "833efa7d4d4d32ce",
   "outputs": [],
   "execution_count": 48
  },
  {
   "metadata": {},
   "cell_type": "code",
   "outputs": [],
   "execution_count": null,
   "source": [
    "#🧬 练习题：标记上调和下调基因\n",
    "#你有一个差异表达结果字典，格式如下：\n",
    "\n",
    "\n",
    "diff_expr_results = {\n",
    "    \"ENSG00000141510\": {\"logFC\": 2.5, \"pval\": 0.001},\n",
    "    \"ENSG00000012048\": {\"logFC\": -1.2, \"pval\": 0.05},\n",
    "    \"ENSG00000139618\": {\"logFC\": 0.8, \"pval\": 0.2},\n",
    "    \"ENSG00000210082\": {\"logFC\": -3.1, \"pval\": 0.0005}\n",
    "}\n",
    "#🎯 任务：\n",
    "#请用一个 for 循环或列表推导式，构建一个新的字典 gene_direction，格式如下：\n",
    "\n",
    "\n",
    "gene_direction = {\n",
    "    \"ENSG00000141510\": \"up\",\n",
    "    \"ENSG00000012048\": \"down\",\n",
    "    ...\n",
    "}\n",
    "\n",
    "#规则：\n",
    "\n",
    "#如果 logFC > 0，标记为 \"up\"\n",
    "\n",
    "#如果 logFC < 0，标记为 \"down\"\n",
    "\n",
    "#如果 logFC == 0，标记为 \"no_change\""
   ],
   "id": "4f3b269f3f046944"
  },
  {
   "metadata": {
    "ExecuteTime": {
     "end_time": "2025-10-08T09:31:04.289931Z",
     "start_time": "2025-10-08T09:31:04.256253Z"
    }
   },
   "cell_type": "code",
   "source": [
    "'''\n",
    "1.建一个空字典gene_direction ={} 来装筛选过上调或下调的基因\n",
    "2.遍历diff_expr_results 这个字典\n",
    "3.用logFC = v['logFC']和 pval = v['pval']来取出 logFC 和 pval 的值（其实可以不写p值）\n",
    "4.用if条件来筛选 logFC > 0 标记为 up， logFC < 0 标记为 down,logFC == 0 标记为 no_change（最关键）\n",
    "5.加入新字典\n",
    "'''\n",
    "gene_direction = {}\n",
    "\n",
    "for k, v in diff_expr_results.items():\n",
    "    logFC = v[\"logFC\"]\n",
    "    if logFC > 0:\n",
    "        gene_direction[k] = \"up\"\n",
    "    elif logFC < 0:\n",
    "        gene_direction[k] = \"down\"\n",
    "    else:\n",
    "        gene_direction[k] = \"no_change\"\n",
    "\n",
    "\n",
    "# 把方向信息直接加到原始字典，方便后续分析\n",
    "for k, v in diff_expr_results.items():\n",
    "    logFC = v[\"logFC\"]\n",
    "    if logFC > 0:\n",
    "        v[\"direction\"] = \"up\"\n",
    "    elif logFC < 0:\n",
    "        v[\"direction\"] = \"down\"\n",
    "    else:\n",
    "        v[\"direction\"] = \"no_change\"\n"
   ],
   "id": "3904e662174ece90",
   "outputs": [],
   "execution_count": 49
  },
  {
   "metadata": {
    "ExecuteTime": {
     "end_time": "2025-10-08T09:56:38.907495Z",
     "start_time": "2025-10-08T09:56:38.868255Z"
    }
   },
   "cell_type": "code",
   "source": [
    "df = pd.DataFrame(diff_expr_results)\n",
    "df = df.T\n",
    "#✅ 第一步：添加 gene_direction 列\n",
    "#你可以用 apply + lambda 来判断 logFC 的方向：\n",
    "\n",
    "df[\"gene_direction\"] = df[\"logFC\"].apply(\n",
    "    lambda x: \"up\" if x > 0 else \"down\" if x < 0 else \"no_change\"\n",
    ")\n",
    "\n",
    "#✅ 第二步：根据方向筛选\n",
    "#例如筛选出所有上调基因：\n",
    "\n",
    "up_genes = df[df[\"gene_direction\"] == \"up\"]\n",
    "down_genes = df[df[\"gene_direction\"] == \"down\"]\n",
    "no_change_genes = df[df[\"gene_direction\"] == \"no_change\"]\n",
    "\n",
    "\n",
    "#快速统计每类基因数量：\n",
    "\n",
    "df[\"gene_direction\"].value_counts()\n",
    "df\n"
   ],
   "id": "3c3985d3cd21d4d0",
   "outputs": [
    {
     "data": {
      "text/plain": [
       "                logFC    pval direction gene_direction\n",
       "ENSG00000141510   2.5   0.001        up             up\n",
       "ENSG00000012048  -1.2    0.05      down           down\n",
       "ENSG00000139618   0.8     0.2        up             up\n",
       "ENSG00000210082  -3.1  0.0005      down           down"
      ],
      "text/html": [
       "<div>\n",
       "<style scoped>\n",
       "    .dataframe tbody tr th:only-of-type {\n",
       "        vertical-align: middle;\n",
       "    }\n",
       "\n",
       "    .dataframe tbody tr th {\n",
       "        vertical-align: top;\n",
       "    }\n",
       "\n",
       "    .dataframe thead th {\n",
       "        text-align: right;\n",
       "    }\n",
       "</style>\n",
       "<table border=\"1\" class=\"dataframe\">\n",
       "  <thead>\n",
       "    <tr style=\"text-align: right;\">\n",
       "      <th></th>\n",
       "      <th>logFC</th>\n",
       "      <th>pval</th>\n",
       "      <th>direction</th>\n",
       "      <th>gene_direction</th>\n",
       "    </tr>\n",
       "  </thead>\n",
       "  <tbody>\n",
       "    <tr>\n",
       "      <th>ENSG00000141510</th>\n",
       "      <td>2.5</td>\n",
       "      <td>0.001</td>\n",
       "      <td>up</td>\n",
       "      <td>up</td>\n",
       "    </tr>\n",
       "    <tr>\n",
       "      <th>ENSG00000012048</th>\n",
       "      <td>-1.2</td>\n",
       "      <td>0.05</td>\n",
       "      <td>down</td>\n",
       "      <td>down</td>\n",
       "    </tr>\n",
       "    <tr>\n",
       "      <th>ENSG00000139618</th>\n",
       "      <td>0.8</td>\n",
       "      <td>0.2</td>\n",
       "      <td>up</td>\n",
       "      <td>up</td>\n",
       "    </tr>\n",
       "    <tr>\n",
       "      <th>ENSG00000210082</th>\n",
       "      <td>-3.1</td>\n",
       "      <td>0.0005</td>\n",
       "      <td>down</td>\n",
       "      <td>down</td>\n",
       "    </tr>\n",
       "  </tbody>\n",
       "</table>\n",
       "</div>"
      ]
     },
     "execution_count": 59,
     "metadata": {},
     "output_type": "execute_result"
    }
   ],
   "execution_count": 59
  },
  {
   "metadata": {},
   "cell_type": "code",
   "outputs": [],
   "execution_count": null,
   "source": "",
   "id": "357868ef709c1bc1"
  }
 ],
 "metadata": {
  "kernelspec": {
   "display_name": "Python 3",
   "language": "python",
   "name": "python3"
  },
  "language_info": {
   "codemirror_mode": {
    "name": "ipython",
    "version": 2
   },
   "file_extension": ".py",
   "mimetype": "text/x-python",
   "name": "python",
   "nbconvert_exporter": "python",
   "pygments_lexer": "ipython2",
   "version": "2.7.6"
  }
 },
 "nbformat": 4,
 "nbformat_minor": 5
}
